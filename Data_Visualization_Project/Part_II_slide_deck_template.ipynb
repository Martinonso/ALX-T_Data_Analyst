{
 "cells": [
  {
   "cell_type": "markdown",
   "metadata": {
    "slideshow": {
     "slide_type": "slide"
    }
   },
   "source": [
    "# Part II - (Investigating some key features that influences trip duration in 201902 Fordgobike Trip)\n",
    "## by (Martin Ikpe)"
   ]
  },
  {
   "cell_type": "markdown",
   "metadata": {
    "slideshow": {
     "slide_type": "slide"
    }
   },
   "source": [
    "\n",
    "## Investigation Overview\n",
    "I will be investigating some key features that influences trip duration in 201902 Fordgobike Trip.\n",
    "There are some key features that impact greatly(positively or negatively) on Trip duration. The main purpose of this investigation is to identify the extent at which these features influences the duration.\n",
    "1. The influence of weekdays & /daytime on Trip duration\n",
    "2. The influence of user_type & bike_share_for_all_trip on Trip duration\n",
    "3. The influence of Age on Trip duration\n",
    "\n",
    "\n",
    "## Dataset Overview\n",
    "### 201902 Fordgobike Trip Dataset\n",
    "This dataset includes information about individual rides made in a bike-sharing system covering the greater San Francisco Bay area. This Datsset was gotten from udacity server. I will be using an already cleaned and transformed 201902 Fordgobike Trip Dataset I uploaded to my notebook. The fpllowing features shall be considered among others:\n",
    "start_day,\n",
    "start_session,\n",
    "user_type, \n",
    "bike_share_for_all_trip,\n",
    "age,\n",
    "duration_sec."
   ]
  },
  {
   "cell_type": "code",
   "execution_count": 23,
   "metadata": {
    "slideshow": {
     "slide_type": "skip"
    }
   },
   "outputs": [],
   "source": [
    "# import all packages and set plots to be embedded inline\n",
    "import numpy as np\n",
    "import pandas as pd\n",
    "import matplotlib.pyplot as plt\n",
    "import seaborn as sb\n",
    "\n",
    "%matplotlib inline\n",
    "\n",
    "# suppress warnings from final output\n",
    "import warnings\n",
    "warnings.simplefilter(\"ignore\")"
   ]
  },
  {
   "cell_type": "code",
   "execution_count": 30,
   "metadata": {
    "slideshow": {
     "slide_type": "skip"
    }
   },
   "outputs": [
    {
     "data": {
      "text/html": [
       "<div>\n",
       "<style scoped>\n",
       "    .dataframe tbody tr th:only-of-type {\n",
       "        vertical-align: middle;\n",
       "    }\n",
       "\n",
       "    .dataframe tbody tr th {\n",
       "        vertical-align: top;\n",
       "    }\n",
       "\n",
       "    .dataframe thead th {\n",
       "        text-align: right;\n",
       "    }\n",
       "</style>\n",
       "<table border=\"1\" class=\"dataframe\">\n",
       "  <thead>\n",
       "    <tr style=\"text-align: right;\">\n",
       "      <th></th>\n",
       "      <th>duration_sec</th>\n",
       "      <th>start_time</th>\n",
       "      <th>end_time</th>\n",
       "      <th>start_station_id</th>\n",
       "      <th>start_station_name</th>\n",
       "      <th>start_station_latitude</th>\n",
       "      <th>start_station_longitude</th>\n",
       "      <th>end_station_id</th>\n",
       "      <th>end_station_name</th>\n",
       "      <th>end_station_latitude</th>\n",
       "      <th>...</th>\n",
       "      <th>bike_share_for_all_trip</th>\n",
       "      <th>start_month</th>\n",
       "      <th>end_month</th>\n",
       "      <th>start_day</th>\n",
       "      <th>end_day</th>\n",
       "      <th>start_hour</th>\n",
       "      <th>end_hour</th>\n",
       "      <th>age</th>\n",
       "      <th>same_station_round_trip</th>\n",
       "      <th>start_session</th>\n",
       "    </tr>\n",
       "  </thead>\n",
       "  <tbody>\n",
       "    <tr>\n",
       "      <th>0</th>\n",
       "      <td>52185</td>\n",
       "      <td>2019-02-28 17:32:10.145</td>\n",
       "      <td>2019-03-01 08:01:55.975</td>\n",
       "      <td>21.0</td>\n",
       "      <td>Montgomery St BART Station (Market St at 2nd St)</td>\n",
       "      <td>37.789625</td>\n",
       "      <td>-122.400811</td>\n",
       "      <td>13.0</td>\n",
       "      <td>Commercial St at Montgomery St</td>\n",
       "      <td>37.794231</td>\n",
       "      <td>...</td>\n",
       "      <td>No</td>\n",
       "      <td>February</td>\n",
       "      <td>March</td>\n",
       "      <td>Thursday</td>\n",
       "      <td>Friday</td>\n",
       "      <td>17</td>\n",
       "      <td>8</td>\n",
       "      <td>35</td>\n",
       "      <td>False</td>\n",
       "      <td>Afternoon</td>\n",
       "    </tr>\n",
       "    <tr>\n",
       "      <th>1</th>\n",
       "      <td>61854</td>\n",
       "      <td>2019-02-28 12:13:13.218</td>\n",
       "      <td>2019-03-01 05:24:08.146</td>\n",
       "      <td>86.0</td>\n",
       "      <td>Market St at Dolores St</td>\n",
       "      <td>37.769305</td>\n",
       "      <td>-122.426826</td>\n",
       "      <td>3.0</td>\n",
       "      <td>Powell St BART Station (Market St at 4th St)</td>\n",
       "      <td>37.786375</td>\n",
       "      <td>...</td>\n",
       "      <td>No</td>\n",
       "      <td>February</td>\n",
       "      <td>March</td>\n",
       "      <td>Thursday</td>\n",
       "      <td>Friday</td>\n",
       "      <td>12</td>\n",
       "      <td>5</td>\n",
       "      <td>47</td>\n",
       "      <td>False</td>\n",
       "      <td>Morning</td>\n",
       "    </tr>\n",
       "    <tr>\n",
       "      <th>2</th>\n",
       "      <td>36490</td>\n",
       "      <td>2019-02-28 17:54:26.010</td>\n",
       "      <td>2019-03-01 04:02:36.842</td>\n",
       "      <td>375.0</td>\n",
       "      <td>Grove St at Masonic Ave</td>\n",
       "      <td>37.774836</td>\n",
       "      <td>-122.446546</td>\n",
       "      <td>70.0</td>\n",
       "      <td>Central Ave at Fell St</td>\n",
       "      <td>37.773311</td>\n",
       "      <td>...</td>\n",
       "      <td>No</td>\n",
       "      <td>February</td>\n",
       "      <td>March</td>\n",
       "      <td>Thursday</td>\n",
       "      <td>Friday</td>\n",
       "      <td>17</td>\n",
       "      <td>4</td>\n",
       "      <td>30</td>\n",
       "      <td>False</td>\n",
       "      <td>Afternoon</td>\n",
       "    </tr>\n",
       "    <tr>\n",
       "      <th>3</th>\n",
       "      <td>1585</td>\n",
       "      <td>2019-02-28 23:54:18.549</td>\n",
       "      <td>2019-03-01 00:20:44.074</td>\n",
       "      <td>7.0</td>\n",
       "      <td>Frank H Ogawa Plaza</td>\n",
       "      <td>37.804562</td>\n",
       "      <td>-122.271738</td>\n",
       "      <td>222.0</td>\n",
       "      <td>10th Ave at E 15th St</td>\n",
       "      <td>37.792714</td>\n",
       "      <td>...</td>\n",
       "      <td>Yes</td>\n",
       "      <td>February</td>\n",
       "      <td>March</td>\n",
       "      <td>Thursday</td>\n",
       "      <td>Friday</td>\n",
       "      <td>23</td>\n",
       "      <td>0</td>\n",
       "      <td>45</td>\n",
       "      <td>False</td>\n",
       "      <td>Night</td>\n",
       "    </tr>\n",
       "    <tr>\n",
       "      <th>4</th>\n",
       "      <td>1793</td>\n",
       "      <td>2019-02-28 23:49:58.632</td>\n",
       "      <td>2019-03-01 00:19:51.760</td>\n",
       "      <td>93.0</td>\n",
       "      <td>4th St at Mission Bay Blvd S</td>\n",
       "      <td>37.770407</td>\n",
       "      <td>-122.391198</td>\n",
       "      <td>323.0</td>\n",
       "      <td>Broadway at Kearny</td>\n",
       "      <td>37.798014</td>\n",
       "      <td>...</td>\n",
       "      <td>No</td>\n",
       "      <td>February</td>\n",
       "      <td>March</td>\n",
       "      <td>Thursday</td>\n",
       "      <td>Friday</td>\n",
       "      <td>23</td>\n",
       "      <td>0</td>\n",
       "      <td>60</td>\n",
       "      <td>False</td>\n",
       "      <td>Night</td>\n",
       "    </tr>\n",
       "  </tbody>\n",
       "</table>\n",
       "<p>5 rows × 25 columns</p>\n",
       "</div>"
      ],
      "text/plain": [
       "   duration_sec               start_time                 end_time  \\\n",
       "0         52185  2019-02-28 17:32:10.145  2019-03-01 08:01:55.975   \n",
       "1         61854  2019-02-28 12:13:13.218  2019-03-01 05:24:08.146   \n",
       "2         36490  2019-02-28 17:54:26.010  2019-03-01 04:02:36.842   \n",
       "3          1585  2019-02-28 23:54:18.549  2019-03-01 00:20:44.074   \n",
       "4          1793  2019-02-28 23:49:58.632  2019-03-01 00:19:51.760   \n",
       "\n",
       "   start_station_id                                start_station_name  \\\n",
       "0              21.0  Montgomery St BART Station (Market St at 2nd St)   \n",
       "1              86.0                           Market St at Dolores St   \n",
       "2             375.0                           Grove St at Masonic Ave   \n",
       "3               7.0                               Frank H Ogawa Plaza   \n",
       "4              93.0                      4th St at Mission Bay Blvd S   \n",
       "\n",
       "   start_station_latitude  start_station_longitude  end_station_id  \\\n",
       "0               37.789625              -122.400811            13.0   \n",
       "1               37.769305              -122.426826             3.0   \n",
       "2               37.774836              -122.446546            70.0   \n",
       "3               37.804562              -122.271738           222.0   \n",
       "4               37.770407              -122.391198           323.0   \n",
       "\n",
       "                               end_station_name  end_station_latitude  \\\n",
       "0                Commercial St at Montgomery St             37.794231   \n",
       "1  Powell St BART Station (Market St at 4th St)             37.786375   \n",
       "2                        Central Ave at Fell St             37.773311   \n",
       "3                         10th Ave at E 15th St             37.792714   \n",
       "4                            Broadway at Kearny             37.798014   \n",
       "\n",
       "       ...       bike_share_for_all_trip  start_month end_month  start_day  \\\n",
       "0      ...                            No     February     March   Thursday   \n",
       "1      ...                            No     February     March   Thursday   \n",
       "2      ...                            No     February     March   Thursday   \n",
       "3      ...                           Yes     February     March   Thursday   \n",
       "4      ...                            No     February     March   Thursday   \n",
       "\n",
       "  end_day start_hour end_hour age same_station_round_trip start_session  \n",
       "0  Friday         17        8  35                   False     Afternoon  \n",
       "1  Friday         12        5  47                   False       Morning  \n",
       "2  Friday         17        4  30                   False     Afternoon  \n",
       "3  Friday         23        0  45                   False         Night  \n",
       "4  Friday         23        0  60                   False         Night  \n",
       "\n",
       "[5 rows x 25 columns]"
      ]
     },
     "execution_count": 30,
     "metadata": {},
     "output_type": "execute_result"
    }
   ],
   "source": [
    "# loading in the dataset into a pandas dataframe\n",
    "gobike = pd.read_csv('201902-fordgobike-tripdata_master.csv')\n",
    "gobike.head()\n"
   ]
  },
  {
   "cell_type": "code",
   "execution_count": 32,
   "metadata": {
    "slideshow": {
     "slide_type": "skip"
    }
   },
   "outputs": [
    {
     "name": "stdout",
     "output_type": "stream",
     "text": [
      "[Thursday, Wednesday, Tuesday, Monday, Sunday, Saturday, Friday]\n",
      "Categories (7, object): [Monday < Tuesday < Wednesday < Thursday < Friday < Saturday < Sunday]\n",
      "<class 'pandas.core.frame.DataFrame'>\n",
      "RangeIndex: 174952 entries, 0 to 174951\n",
      "Data columns (total 25 columns):\n",
      "duration_sec               174952 non-null int64\n",
      "start_time                 174952 non-null object\n",
      "end_time                   174952 non-null object\n",
      "start_station_id           174952 non-null float64\n",
      "start_station_name         174952 non-null object\n",
      "start_station_latitude     174952 non-null float64\n",
      "start_station_longitude    174952 non-null float64\n",
      "end_station_id             174952 non-null float64\n",
      "end_station_name           174952 non-null object\n",
      "end_station_latitude       174952 non-null float64\n",
      "end_station_longitude      174952 non-null float64\n",
      "bike_id                    174952 non-null int64\n",
      "user_type                  174952 non-null object\n",
      "member_birth_year          174952 non-null int64\n",
      "member_gender              174952 non-null object\n",
      "bike_share_for_all_trip    174952 non-null category\n",
      "start_month                174952 non-null object\n",
      "end_month                  174952 non-null object\n",
      "start_day                  174952 non-null category\n",
      "end_day                    174952 non-null object\n",
      "start_hour                 174952 non-null int64\n",
      "end_hour                   174952 non-null int64\n",
      "age                        174952 non-null int64\n",
      "same_station_round_trip    174952 non-null bool\n",
      "start_session              174952 non-null object\n",
      "dtypes: bool(1), category(2), float64(6), int64(6), object(10)\n",
      "memory usage: 29.9+ MB\n"
     ]
    }
   ],
   "source": [
    "#converting share bike column to catrgory\n",
    "gobike.bike_share_for_all_trip = gobike.bike_share_for_all_trip.astype('category')\n",
    "\n",
    "#converting the start_day column to category\n",
    "from pandas.api.types import CategoricalDtype\n",
    "cats = [ 'Monday', 'Tuesday', 'Wednesday', 'Thursday', 'Friday', 'Saturday', 'Sunday']\n",
    "cat_type = CategoricalDtype(categories=cats, ordered=True)\n",
    "gobike['start_day']=gobike['start_day'].astype(cat_type)\n",
    "\n",
    "print(gobike.start_day.unique())\n",
    "gobike.info()"
   ]
  },
  {
   "cell_type": "code",
   "execution_count": 25,
   "metadata": {
    "slideshow": {
     "slide_type": "skip"
    }
   },
   "outputs": [],
   "source": [
    "#creating a function to be used for chart plotting\n",
    "\n",
    "def plot_chart(df,x,h,t):\n",
    "    plt.figure(figsize = [10, 10])\n",
    "    sb.countplot(data = df, x = x, hue = h).set(xlabel=x, title=t)\n",
    "    plt.xlabel(x, fontsize=12)\n",
    "    plt.title(t, fontsize=12)\n",
    "    plt.legend()\n",
    "    return plt.show();\n",
    "\n",
    "def bar_chart(df,x,y,h,t):\n",
    "    plt.figure(figsize = [10, 10])\n",
    "    sb.countplot(data=df, x=x, hue=h).set(xlabel=x, ylabel=y, title=t)\n",
    "    plt.xlabel(x, fontsize=12)\n",
    "    plt.ylabel(y, fontsize=12)\n",
    "    plt.title(t, fontsize=12)\n",
    "    plt.legend()\n",
    "    return plt.show();\n",
    "\n",
    "def scatter_chart(df,x,y,t):\n",
    "    plt.figure(figsize = [10, 10])\n",
    "    sb.regplot(data = df, x = x, y = y).set(xlabel=x, ylabel=y, title=t)\n",
    "    plt.xlabel(x, fontsize=12)\n",
    "    plt.ylabel(y, fontsize=12)\n",
    "    plt.title(t, fontsize=12)\n",
    "    plt.legend()\n",
    "    return plt.show();\n",
    "                          "
   ]
  },
  {
   "cell_type": "markdown",
   "metadata": {
    "slideshow": {
     "slide_type": "skip"
    }
   },
   "source": [
    "> Note that the above cells have been set as \"Skip\"-type slides. That means\n",
    "that when the notebook is rendered as http slides, those cells won't show up."
   ]
  },
  {
   "cell_type": "markdown",
   "metadata": {
    "slideshow": {
     "slide_type": "slide"
    }
   },
   "source": [
    "## The influence of weekdays & daytime on Trip duration.\n",
    "\n",
    "This visualization shows that most trips took place within the weekdays while less trips were taken on weekends. The trips were also taken more in the morning and than afternoon.\n",
    "This means that the participants were more available on Thursdays and Tuesdays especially in the morning and some in the afternoon. We can also assume that the the people that participated over the weekend were more of working class.\n",
    "We can conclude that the day of the week and the time of the day at which the trip was taken has great influence on the trip count and duration.\n"
   ]
  },
  {
   "cell_type": "code",
   "execution_count": 33,
   "metadata": {
    "slideshow": {
     "slide_type": "subslide"
    }
   },
   "outputs": [
    {
     "data": {
      "image/png": "[encoded data removed]",
      "text/plain": [
       "<matplotlib.figure.Figure at 0x7f8ab9727e10>"
      ]
     },
     "metadata": {
      "needs_background": "light"
     },
     "output_type": "display_data"
    }
   ],
   "source": [
    "bar_chart(gobike,'start_day','duration_sec','start_session','The effect of weekdays & daytime on Trip count and Duration')\n",
    "#bar_chart(gobike,'start_day','start_session','The effect of weekdays & daytime on Trip count and Duration')"
   ]
  },
  {
   "cell_type": "markdown",
   "metadata": {
    "collapsed": true,
    "slideshow": {
     "slide_type": "slide"
    }
   },
   "source": [
    "## The influence of user type & bike share on Trip duration.\n",
    "\n",
    "\n",
    "The users that participated in this Bike trip were divided into two namely: the subcribers and the Customers. Secondly the subscribers were only the ones that shared their Bike while the customers did not share their bike at all."
   ]
  },
  {
   "cell_type": "code",
   "execution_count": 22,
   "metadata": {
    "slideshow": {
     "slide_type": "subslide"
    }
   },
   "outputs": [
    {
     "data": {
      "image/png": "[encoded data removed]",
      "text/plain": [
       "<matplotlib.figure.Figure at 0x7f8ab9778cc0>"
      ]
     },
     "metadata": {
      "needs_background": "light"
     },
     "output_type": "display_data"
    }
   ],
   "source": [
    "plot_chart(gobike,'user_type','bike_share_for_all_trip','The Effect of user_type & bike_share_for_all_trip on Trip Duration')"
   ]
  },
  {
   "cell_type": "markdown",
   "metadata": {
    "slideshow": {
     "slide_type": "slide"
    }
   },
   "source": [
    "## The influence of Age on Trip duration.\n",
    "\n",
    "The Age of the paticipants has negative correlation on the duration of the trip. This means that the increase in age brings about decrease in duration.\n"
   ]
  },
  {
   "cell_type": "code",
   "execution_count": 6,
   "metadata": {
    "slideshow": {
     "slide_type": "subslide"
    }
   },
   "outputs": [
    {
     "data": {
      "image/png": "[encoded data removed]",
      "text/plain": [
       "<matplotlib.figure.Figure at 0x7ff4282b07f0>"
      ]
     },
     "metadata": {
      "needs_background": "light"
     },
     "output_type": "display_data"
    }
   ],
   "source": [
    "scatter_chart(gobike,'age','duration_sec','Effect of Age on trip duration')"
   ]
  },
  {
   "cell_type": "markdown",
   "metadata": {
    "slideshow": {
     "slide_type": "skip"
    }
   },
   "source": [
    "### Generate Slideshow\n",
    "Once you're ready to generate your slideshow, use the `jupyter nbconvert` command to generate the HTML slide show.  "
   ]
  },
  {
   "cell_type": "code",
   "execution_count": null,
   "metadata": {
    "slideshow": {
     "slide_type": "skip"
    }
   },
   "outputs": [
    {
     "name": "stdout",
     "output_type": "stream",
     "text": [
      "[NbConvertApp] Converting notebook Part_II_slide_deck_template.ipynb to slides\n",
      "[NbConvertApp] Writing 374159 bytes to Part_II_slide_deck_template.slides.html\n",
      "[NbConvertApp] Redirecting reveal.js requests to https://cdnjs.cloudflare.com/ajax/libs/reveal.js/3.5.0\n",
      "Serving your slides at http://127.0.0.1:8000/Part_II_slide_deck_template.slides.html\n",
      "Use Control-C to stop this server\n",
      "/usr/bin/xdg-open: 778: /usr/bin/xdg-open: x-www-browser: not found\n",
      "/usr/bin/xdg-open: 778: /usr/bin/xdg-open: firefox: not found\n",
      "/usr/bin/xdg-open: 778: /usr/bin/xdg-open: iceweasel: not found\n",
      "/usr/bin/xdg-open: 778: /usr/bin/xdg-open: seamonkey: not found\n",
      "/usr/bin/xdg-open: 778: /usr/bin/xdg-open: mozilla: not found\n",
      "/usr/bin/xdg-open: 778: /usr/bin/xdg-open: epiphany: not found\n",
      "/usr/bin/xdg-open: 778: /usr/bin/xdg-open: konqueror: not found\n",
      "/usr/bin/xdg-open: 778: /usr/bin/xdg-open: chromium-browser: not found\n",
      "/usr/bin/xdg-open: 778: /usr/bin/xdg-open: google-chrome: not found\n",
      "/usr/bin/xdg-open: 778: /usr/bin/xdg-open: www-browser: not found\n",
      "/usr/bin/xdg-open: 778: /usr/bin/xdg-open: links2: not found\n",
      "/usr/bin/xdg-open: 778: /usr/bin/xdg-open: elinks: not found\n",
      "/usr/bin/xdg-open: 778: /usr/bin/xdg-open: links: not found\n",
      "/usr/bin/xdg-open: 778: /usr/bin/xdg-open: lynx: not found\n",
      "/usr/bin/xdg-open: 778: /usr/bin/xdg-open: w3m: not found\n",
      "xdg-open: no method available for opening 'http://127.0.0.1:8000/Part_II_slide_deck_template.slides.html'\n"
     ]
    }
   ],
   "source": [
    "# Use this command if you are running this file in local\n",
    "!jupyter nbconvert Part_II_slide_deck_template.ipynb --to slides --post serve --no-input --no-prompt"
   ]
  },
  {
   "cell_type": "markdown",
   "metadata": {
    "slideshow": {
     "slide_type": "skip"
    }
   },
   "source": [
    "> In the classroom workspace, the generated HTML slideshow will be placed in the home folder. \n",
    "\n",
    "> In local machines, the command above should open a tab in your web browser where you can scroll through your presentation. Sub-slides can be accessed by pressing 'down' when viewing its parent slide. Make sure you remove all of the quote-formatted guide notes like this one before you finish your presentation! At last, you can stop the Kernel. "
   ]
  },
  {
   "cell_type": "markdown",
   "metadata": {
    "slideshow": {
     "slide_type": "skip"
    }
   },
   "source": [
    "### Submission\n",
    "If you are using classroom workspace, you can choose from the following two ways of submission:\n",
    "\n",
    "1. **Submit from the workspace**. Make sure you have removed the example project from the /home/workspace directory. You must submit the following files:\n",
    "   - Part_I_notebook.ipynb\n",
    "   - Part_I_notebook.html or pdf\n",
    "   - Part_II_notebook.ipynb\n",
    "   - Part_I_slides.html\n",
    "   - README.md\n",
    "   - dataset (optional)\n",
    "\n",
    "\n",
    "2. **Submit a zip file on the last page of this project lesson**. In this case, open the Jupyter terminal and run the command below to generate a ZIP file. \n",
    "```bash\n",
    "zip -r my_project.zip .\n",
    "```\n",
    "The command abobve will ZIP every file present in your /home/workspace directory. Next, you can download the zip to your local, and follow the instructions on the last page of this project lesson.\n"
   ]
  },
  {
   "cell_type": "code",
   "execution_count": null,
   "metadata": {},
   "outputs": [],
   "source": []
  }
 ],
 "metadata": {
  "celltoolbar": "Slideshow",
  "kernelspec": {
   "display_name": "Python 3",
   "language": "python",
   "name": "python3"
  },
  "language_info": {
   "codemirror_mode": {
    "name": "ipython",
    "version": 3
   },
   "file_extension": ".py",
   "mimetype": "text/x-python",
   "name": "python",
   "nbconvert_exporter": "python",
   "pygments_lexer": "ipython3",
   "version": "3.6.3"
  }
 },
 "nbformat": 4,
 "nbformat_minor": 2
}
